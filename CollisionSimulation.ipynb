{
 "cells": [
  {
   "cell_type": "code",
   "execution_count": 10,
   "metadata": {},
   "outputs": [],
   "source": [
    "import numpy as np\n",
    "import heapq as hq\n",
    "import matplotlib.pyplot as plt"
   ]
  },
  {
   "cell_type": "code",
   "execution_count": 5,
   "metadata": {},
   "outputs": [],
   "source": [
    "class Particle(object):\n",
    "    def __init__(self,position,velocity,r=0.01,m=1,priority=1):\n",
    "        self.position = position\n",
    "        self.velocity = velocity\n",
    "        self.radius = r\n",
    "        self.mass = m\n",
    "        self.priority = priority\n",
    "    def collisionWall(self,wall):\n",
    "        self.velocity  = self.velocity - 2* np.dot(self.velocity,wall.normalVec())* wall.normalVec()\n",
    "            \n",
    "    def collisionParticle(self,other):\n",
    "        centralVec = (other.position - self.position) / np.sqrt(np.sum((other.position-self.position)**2))\n",
    "        transferMomentum = -2*self.mass*other.mass/(self.mass+other.mass) * np.dot((self.velocity-other.velocity), \\\n",
    "                                                                                        centralVec) * centralVec\n",
    "        self.velocity = self.velocity + transferMomentum / self.mass\n",
    "        other.velocity = other.velocity - transferMomentum / other.mass\n",
    "        \n",
    "    def update(self,dT):\n",
    "        self.position = self.position + self.velocity * dT\n",
    "        \n",
    "    def __lt__(self,other):\n",
    "        return self.priority < other.priority\n",
    "    \n",
    "    def __gt__(self,other):\n",
    "        return self.priority >= other.priority\n",
    "\n",
    "class Box(object):\n",
    "    def __init__(self,width,length):\n",
    "        self.width = width\n",
    "        self.length = length\n",
    "        wall1 = wall((0,0),(0,self.width))\n",
    "        wall2 = wall((0,self.width),(self.length,self.width))\n",
    "        wall3 = wall((self.length,self.width),(self.length,0))\n",
    "        wall4 = wall((self.length,0),(0,0))\n",
    "        self.walls = [wall1,wall2,wall3,wall4]\n",
    "\n",
    "class wall(object):\n",
    "    def __init__(self,endPoint1,endPoint2,priority=0):\n",
    "        endPoint1 = np.array(endPoint1)\n",
    "        endPoint2 = np.array(endPoint2)\n",
    "        self.endP1 = endPoint1\n",
    "        self.endP2 = endPoint2\n",
    "        v = self.endP1 - self.endP2 \n",
    "        self.vector = v/np.sqrt(np.sum(v**2))\n",
    "        self.priority = priority\n",
    "    def normalVec(self): # normal vector with a normalized norm\n",
    "        boxVec = np.array([0,0,-1])\n",
    "        return np.cross(self.vector,boxVec)[:-1] # for we consider 2d case.\n",
    "    \n",
    "    def __lt__(self,other):\n",
    "        return self.priority < other.priority\n",
    "    \n",
    "    def __gt__(self,other):\n",
    "        return self.priority >= other.priority\n",
    "    \n",
    "class EventQuene(object):\n",
    "    def __init__(self,particles,box):\n",
    "        self.particles = particles\n",
    "        self.box = box\n",
    "        initCollisionEvent = []\n",
    "        for i,p1 in enumerate(particles):\n",
    "            for j,p2 in enumerate(particles[i+1:]):\n",
    "                initCollisionEvent.append((ParticleCollisionTime(p1,p2),p1,p2))\n",
    "        \n",
    "            for k,wall in enumerate(box.walls):\n",
    "                initCollisionEvent.append((WallCollisionTime(p1,wall),p1,wall))\n",
    "        hq.heapify(initCollisionEvent)\n",
    "        self.Quene = initCollisionEvent\n",
    "    def remove(self,ele):\n",
    "        for t,p1,p2 in self.Quene[:]:\n",
    "            if p1 == ele or p2 == ele:\n",
    "                self.Quene.remove((t,p1,p2))\n",
    "        hq.heapify(self.Quene)\n",
    "        \n",
    "    def add(self,ele,time=0):\n",
    "        self.remove(ele)\n",
    "        for p in self.particles:\n",
    "            if p != ele:\n",
    "                hq.heappush(self.Quene,(ParticleCollisionTime(p1,p,time),p1,p))\n",
    "        for w in box.walls:\n",
    "            hq.heappush(self.Quene,(WallCollisionTime(p1,w,time),p1,w))\n",
    "            \n",
    "def ParticleCollisionTime(p1,p2,CurrentTime=0,bigNum=1):\n",
    "    pseudoTs =calculateCollisionTime(p1,p2) # two solutions\n",
    "    if any(t.imag !=0 for t in pseudoTs): # two particles will not collide with each other\n",
    "        T = bigNum + CurrentTime\n",
    "        return T\n",
    "    else:\n",
    "        T = min(pseudoTs,key= lambda x: x.real).real + CurrentTime\n",
    "    return T\n",
    "\n",
    "def calculateCollisionTime(p1,p2):\n",
    "    a = np.dot((p1.velocity - p2.velocity),(p1.velocity-p2.velocity))\n",
    "    b = -2*np.dot((p1.position-p2.position),(p1.velocity-p2.velocity))\n",
    "    c = complex(np.dot((p1.position-p2.position),(p1.position-p2.position)) - (p1.radius+p2.radius)**2)\n",
    "    \n",
    "    sol1 = complex((-1*b+(b**2-4*a*c)**(1/2))/(2*a))\n",
    "    \n",
    "    sol2 = complex((-1*b-(b**2-4*a*c)**(1/2))/(2*a))\n",
    "    return [sol1,sol2]\n",
    "\n",
    "def WallCollisionTime(p1,wall,CurrentTime=0,bigNum=1): # use constrain to do.\n",
    "    constrain = []\n",
    "    for i in range(2):\n",
    "        if wall.endP1[i] == wall.endP2[i]:\n",
    "            constrain.append((i,wall.endP1[i]))\n",
    "    t = (wall.endP1[i] - p1.position[i]) / p1.velocity[i]\n",
    "    if t <0 or OutOfBoundary(p1,wall,t,i):\n",
    "        return bigNum + CurrentTime\n",
    "    else:\n",
    "        return t + CurrentTime\n",
    "\n",
    "def OutOfBoundary(p,wall,t,i):  \n",
    "    expectPosition = p.position[(i+1)%2] + p.velocity[(i+1)%2] * t\n",
    "    if expectPosition > max([EndP[(i+1)%2] for EndP in [wall.endP1,wall.endP2]]) or \\\n",
    "                            expectPosition < min([EndP[(i+1)%2] for EndP in [wall.endP1,wall.endP2]]):\n",
    "            return True\n",
    "    return False\n",
    "    "
   ]
  },
  {
   "cell_type": "code",
   "execution_count": 16,
   "metadata": {},
   "outputs": [
    {
     "name": "stderr",
     "output_type": "stream",
     "text": [
      "C:\\Miniconda3\\lib\\site-packages\\ipykernel_launcher.py:96: RuntimeWarning: invalid value encountered in cdouble_scalars\n",
      "C:\\Miniconda3\\lib\\site-packages\\ipykernel_launcher.py:98: RuntimeWarning: invalid value encountered in cdouble_scalars\n"
     ]
    },
    {
     "data": {
      "text/plain": [
       "(array([ 2.,  0.,  3.,  2.,  4.,  7.,  5.,  4.,  5.,  8.,  8.,  9.,  7.,\n",
       "        14.,  6.,  3.,  7.,  3.,  2.,  1.]),\n",
       " array([ 0.90998628,  1.52373489,  2.1374835 ,  2.7512321 ,  3.36498071,\n",
       "         3.97872932,  4.59247793,  5.20622653,  5.81997514,  6.43372375,\n",
       "         7.04747236,  7.66122097,  8.27496957,  8.88871818,  9.50246679,\n",
       "        10.1162154 , 10.72996401, 11.34371261, 11.95746122, 12.57120983,\n",
       "        13.18495844]),\n",
       " <a list of 20 Patch objects>)"
      ]
     },
     "execution_count": 16,
     "metadata": {},
     "output_type": "execute_result"
    },
    {
     "data": {
      "image/png": "[encoded data removed]",
      "text/plain": [
       "<Figure size 432x288 with 1 Axes>"
      ]
     },
     "metadata": {
      "needs_background": "light"
     },
     "output_type": "display_data"
    }
   ],
   "source": [
    "radius = 0.01\n",
    "NumParticles = 100\n",
    "NumCollision = 500\n",
    "length = 1\n",
    "width = 1\n",
    "bigNum = min([length,width]) / radius * 100\n",
    "particles = [Particle(np.random.rand(2),10*np.random.rand(2),r=radius) for _ in range(NumParticles)]\n",
    "box = Box(length,width)\n",
    "eventq  = EventQuene(particles,box)\n",
    "\n",
    "done = False\n",
    "currentT = 0\n",
    "totalCollisionTimes = 0\n",
    "while not done:\n",
    "    nextT,p1,x = hq.heappop(eventq.Quene)\n",
    "    deltaT = nextT - currentT\n",
    "    for p in particles:\n",
    "        p.update(deltaT)\n",
    "    if type(x) == Particle:  # if collide with another particle\n",
    "        p1.collisionParticle(x)\n",
    "        eventq.remove(x)\n",
    "        eventq.remove(p1)\n",
    "        eventq.add(x,time=nextT)\n",
    "        eventq.add(p1)\n",
    "    elif type(x) == wall:  # if collide against wall\n",
    "        p1.collisionWall(x)\n",
    "        eventq.remove(p1)\n",
    "        eventq.add(p1,time=nextT)\n",
    "        \n",
    "    currentT = nextT\n",
    "    totalCollisionTimes += 1 \n",
    "    if totalCollisionTimes == NumCollision:\n",
    "        done = True\n",
    "plt.hist([np.dot(p.velocity,p.velocity)**(1/2) for p in particles],bins=20)"
   ]
  },
  {
   "cell_type": "code",
   "execution_count": 22,
   "metadata": {},
   "outputs": [
    {
     "name": "stdout",
     "output_type": "stream",
     "text": [
      "1.0\n"
     ]
    }
   ],
   "source": []
  },
  {
   "cell_type": "code",
   "execution_count": 74,
   "metadata": {},
   "outputs": [
    {
     "name": "stdout",
     "output_type": "stream",
     "text": [
      "0\n"
     ]
    }
   ],
   "source": []
  },
  {
   "cell_type": "code",
   "execution_count": null,
   "metadata": {},
   "outputs": [],
   "source": []
  }
 ],
 "metadata": {
  "kernelspec": {
   "display_name": "Python 3",
   "language": "python",
   "name": "python3"
  },
  "language_info": {
   "codemirror_mode": {
    "name": "ipython",
    "version": 3
   },
   "file_extension": ".py",
   "mimetype": "text/x-python",
   "name": "python",
   "nbconvert_exporter": "python",
   "pygments_lexer": "ipython3",
   "version": "3.6.8"
  }
 },
 "nbformat": 4,
 "nbformat_minor": 2
}
