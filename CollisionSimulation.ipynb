{
 "cells": [
  {
   "cell_type": "code",
   "execution_count": 1,
   "metadata": {},
   "outputs": [],
   "source": [
    "import numpy as np\n",
    "import heapq as hq"
   ]
  },
  {
   "cell_type": "code",
   "execution_count": 3,
   "metadata": {},
   "outputs": [],
   "source": [
    "class Particle(object):\n",
    "    def __init__(self,position,velocity,r=0.01,m=1):\n",
    "        self.position = position\n",
    "        self.velocity = velocity\n",
    "        self.radius = r\n",
    "        self.mass = m\n",
    "        \n",
    "    def collisionWall(self,wall):\n",
    "        self.velocity  = self.velocity - 2* np.dot(self.velocity,wal.normalVec)* wall.normalVec\n",
    "            \n",
    "    def collisionParticle(self,other):\n",
    "        centralVec = (other.position - self.position) / np.sqrt(np.sum((other.position-self.position)**2))\n",
    "        transferMomentum = -2*self.mass*other.mass/(self.mass+other.mass) * np.dot((self.velocity-other.velocity), \\\n",
    "                                                                                        centralVec) * centralVec\n",
    "        self.velocity = self.velocity + transferMomentum / self.mass\n",
    "        other.velocity = other.velocity - transferMomentum / other.mass\n",
    "        \n",
    "    def update(self,dT):\n",
    "        self.position = self.position + self.velocity * dT\n",
    "\n",
    "class Box(object):\n",
    "    def __init__(self,width,length):\n",
    "        self.width = width\n",
    "        self.length = length\n",
    "        wall1 = wall((0,0),(0,self.width))\n",
    "        wall2 = wall((0,self.width),(self.length,self.width))\n",
    "        wall3 = wall((self.length,self.width),(self.length,0))\n",
    "        wall4 = wall((self.length,0),(0,0))\n",
    "        self.walls = [wall1,wall2,wall3,wall4]\n",
    "\n",
    "class wall(object):\n",
    "    def __init__(self,endPoint1,endPoint2):\n",
    "        self.endP1 = endPoint1\n",
    "        self.endP2 = endPoint2\n",
    "    def normalVec(self): # normal vector with a normalized norm\n",
    "        self.vector = (self.endP2 - self.endP1)/np.sqrt(np.sum(v**2))\n",
    "        boxVec = np.array([0,0,-1])\n",
    "        return np.cross(self.vector,boxVec)[:-1] # for we consider 2d case.\n",
    "    \n",
    "class EventQuene(object):\n",
    "    def __init__(self,particles,box):\n",
    "        self.particles = particles\n",
    "        self.box = box\n",
    "        initCollisionEvent = []\n",
    "        for i,p1 in enumerate(particles):\n",
    "            for p2 in particles[i+1:]:\n",
    "                initCollisionEvent.append((ParticleCollisionTime(p1,p2),p1,p2))\n",
    "            for wall in box.walls:\n",
    "                initCollisionEvent.append((WallCollisionTime(p1,wall),p1,wall))\n",
    "        self.Quene = hq.heapify(initCollisionEvent)\n",
    "        \n",
    "    def remove(self,ele):\n",
    "        for t,p1,p2 in self.Quene[:]:\n",
    "            if p1 == ele or p2 == ele:\n",
    "                self.Quene.remove((t,p1,p2))\n",
    "        self.Quene = hq.heapify(self.Quene)\n",
    "        \n",
    "    def add(self,ele,time=0):\n",
    "        self.remove(ele)\n",
    "        for p in self.particles:\n",
    "            if p != ele:\n",
    "                hq.heapush(self.Quene,ParticleCollisionTime(p1,p,time),p1,p)\n",
    "        for w in box.walls:\n",
    "            hq.heapush(self.Quene,WallCollisionTime(p1,w,time),p1,w)\n",
    "            \n",
    "def ParticleCollisionTime(p1,p2,CurrentTime=0,bigNum=1):\n",
    "    pseudoTs =calculateCollisionTime(p1,p2) # two solutions\n",
    "    if any(t.imag() !=0 for t in pseudoTs): # two particles will not collide with each other\n",
    "        T = bigTime + CurrentTime\n",
    "        return T\n",
    "    else:\n",
    "        T = min(pseudoTs) + CurrentTime\n",
    "    return T\n",
    "\n",
    "def calculateCollisionTime(p1,p2):\n",
    "    a = np.dot((p1.velocity - p2.velocity),(p1.velocity-p2.velocity))\n",
    "    b = -2*np.dot((p1.position-p2.position),(p1.velocity-p2.velocity))\n",
    "    c = np.dot((p1.position-p2.position),(p1.position-p2.position)) - (p1.radius+p2.radius)**2\n",
    "    sol1 = complex((-1*b+(b**2-4*a*c)**(1/2))/(2*a))\n",
    "    sol2 = complex((-1*b-(b**2-4*a*c)**(1/2))/(2*a))\n",
    "    return [sol1,sol2]\n",
    "\n",
    "def WallCollisionTime(p1,wall,time=0,bigNum=1): # use constrain to do.\n",
    "    pass\n",
    "    "
   ]
  },
  {
   "cell_type": "code",
   "execution_count": 14,
   "metadata": {},
   "outputs": [
    {
     "ename": "TypeError",
     "evalue": "'<' not supported between instances of 'wall' and 'wall'",
     "output_type": "error",
     "traceback": [
      "\u001b[1;31m---------------------------------------------------------------------------\u001b[0m",
      "\u001b[1;31mTypeError\u001b[0m                                 Traceback (most recent call last)",
      "\u001b[1;32m<ipython-input-14-a22e7a2d5bb7>\u001b[0m in \u001b[0;36m<module>\u001b[1;34m()\u001b[0m\n\u001b[0;32m      1\u001b[0m \u001b[0mparticles\u001b[0m \u001b[1;33m=\u001b[0m \u001b[1;33m[\u001b[0m\u001b[0mParticle\u001b[0m\u001b[1;33m(\u001b[0m\u001b[0mnp\u001b[0m\u001b[1;33m.\u001b[0m\u001b[0mrandom\u001b[0m\u001b[1;33m.\u001b[0m\u001b[0mrand\u001b[0m\u001b[1;33m(\u001b[0m\u001b[1;36m2\u001b[0m\u001b[1;33m)\u001b[0m\u001b[1;33m,\u001b[0m\u001b[0mnp\u001b[0m\u001b[1;33m.\u001b[0m\u001b[0mrandom\u001b[0m\u001b[1;33m.\u001b[0m\u001b[0mrand\u001b[0m\u001b[1;33m(\u001b[0m\u001b[1;36m2\u001b[0m\u001b[1;33m)\u001b[0m\u001b[1;33m)\u001b[0m \u001b[1;32mfor\u001b[0m \u001b[0m_\u001b[0m \u001b[1;32min\u001b[0m \u001b[0mrange\u001b[0m\u001b[1;33m(\u001b[0m\u001b[1;36m10\u001b[0m\u001b[1;33m)\u001b[0m\u001b[1;33m]\u001b[0m\u001b[1;33m\u001b[0m\u001b[1;33m\u001b[0m\u001b[0m\n\u001b[0;32m      2\u001b[0m \u001b[0mbox\u001b[0m \u001b[1;33m=\u001b[0m \u001b[0mBox\u001b[0m\u001b[1;33m(\u001b[0m\u001b[1;36m1\u001b[0m\u001b[1;33m,\u001b[0m\u001b[1;36m1\u001b[0m\u001b[1;33m)\u001b[0m\u001b[1;33m\u001b[0m\u001b[1;33m\u001b[0m\u001b[0m\n\u001b[1;32m----> 3\u001b[1;33m \u001b[0meventq\u001b[0m  \u001b[1;33m=\u001b[0m \u001b[0mEventQuene\u001b[0m\u001b[1;33m(\u001b[0m\u001b[0mparticles\u001b[0m\u001b[1;33m,\u001b[0m\u001b[0mbox\u001b[0m\u001b[1;33m)\u001b[0m\u001b[1;33m\u001b[0m\u001b[1;33m\u001b[0m\u001b[0m\n\u001b[0m\u001b[0;32m      4\u001b[0m \u001b[0mdone\u001b[0m \u001b[1;33m=\u001b[0m \u001b[1;32mFalse\u001b[0m\u001b[1;33m\u001b[0m\u001b[1;33m\u001b[0m\u001b[0m\n\u001b[0;32m      5\u001b[0m \u001b[0mcurrentT\u001b[0m \u001b[1;33m=\u001b[0m \u001b[1;36m0\u001b[0m\u001b[1;33m\u001b[0m\u001b[1;33m\u001b[0m\u001b[0m\n",
      "\u001b[1;32m<ipython-input-13-a709f042ee57>\u001b[0m in \u001b[0;36m__init__\u001b[1;34m(self, particles, box)\u001b[0m\n\u001b[0;32m     47\u001b[0m             \u001b[1;32mfor\u001b[0m \u001b[0mwall\u001b[0m \u001b[1;32min\u001b[0m \u001b[0mbox\u001b[0m\u001b[1;33m.\u001b[0m\u001b[0mwalls\u001b[0m\u001b[1;33m:\u001b[0m\u001b[1;33m\u001b[0m\u001b[1;33m\u001b[0m\u001b[0m\n\u001b[0;32m     48\u001b[0m                 \u001b[0minitCollisionEvent\u001b[0m\u001b[1;33m.\u001b[0m\u001b[0mappend\u001b[0m\u001b[1;33m(\u001b[0m\u001b[1;33m(\u001b[0m\u001b[0mWallCollisionTime\u001b[0m\u001b[1;33m(\u001b[0m\u001b[0mp1\u001b[0m\u001b[1;33m,\u001b[0m\u001b[0mwall\u001b[0m\u001b[1;33m)\u001b[0m\u001b[1;33m,\u001b[0m\u001b[0mp1\u001b[0m\u001b[1;33m,\u001b[0m\u001b[0mwall\u001b[0m\u001b[1;33m)\u001b[0m\u001b[1;33m)\u001b[0m\u001b[1;33m\u001b[0m\u001b[1;33m\u001b[0m\u001b[0m\n\u001b[1;32m---> 49\u001b[1;33m         \u001b[0mself\u001b[0m\u001b[1;33m.\u001b[0m\u001b[0mQuene\u001b[0m \u001b[1;33m=\u001b[0m \u001b[0mhq\u001b[0m\u001b[1;33m.\u001b[0m\u001b[0mheapify\u001b[0m\u001b[1;33m(\u001b[0m\u001b[0minitCollisionEvent\u001b[0m\u001b[1;33m)\u001b[0m\u001b[1;33m\u001b[0m\u001b[1;33m\u001b[0m\u001b[0m\n\u001b[0m\u001b[0;32m     50\u001b[0m \u001b[1;33m\u001b[0m\u001b[0m\n\u001b[0;32m     51\u001b[0m     \u001b[1;32mdef\u001b[0m \u001b[0mremove\u001b[0m\u001b[1;33m(\u001b[0m\u001b[0mself\u001b[0m\u001b[1;33m,\u001b[0m\u001b[0mele\u001b[0m\u001b[1;33m)\u001b[0m\u001b[1;33m:\u001b[0m\u001b[1;33m\u001b[0m\u001b[1;33m\u001b[0m\u001b[0m\n",
      "\u001b[1;31mTypeError\u001b[0m: '<' not supported between instances of 'wall' and 'wall'"
     ]
    }
   ],
   "source": [
    "radius = 0.01\n",
    "NumParticles = 10\n",
    "NumCollision = 1000\n",
    "length = 1\n",
    "width = 1\n",
    "bigNum = min([length,width]) / radius * 100\n",
    "particles = [Particle(np.random.rand(2),np.random.rand(2),radius=radius) for _ in range(NumParticles)]\n",
    "box = Box(length,width)\n",
    "eventq  = EventQuene(particles,box)\n",
    "done = False\n",
    "currentT = 0\n",
    "totalCollisionTimes = 0\n",
    "while not done:\n",
    "    nextT,p1,x = hq.heappop(eventq)\n",
    "    deltaT = nextT - currentT\n",
    "    for p in particles:\n",
    "        p.update(deltaT)\n",
    "    if type(x) == Particle:  # if collide with another particle\n",
    "        p1.collisionParticle(x)\n",
    "        eventq.remove(x)\n",
    "        eventq.remove(p1)\n",
    "        eventq.add(x,time=nextT)\n",
    "        eventq.add(p1)\n",
    "    elif type(x) == wall:  # if collide against wall\n",
    "        p1.collisionWall(x)\n",
    "        eventq.remove(p1)\n",
    "        eventq.add(p1,time=nextT)\n",
    "        \n",
    "    currentT = nextT\n",
    "    totalCollisionTimes += 1 \n",
    "    if totalCollisionTimes == NumCollision:\n",
    "        done = True\n",
    "print(particles)"
   ]
  },
  {
   "cell_type": "code",
   "execution_count": 9,
   "metadata": {},
   "outputs": [
    {
     "name": "stdout",
     "output_type": "stream",
     "text": [
      "2.0\n"
     ]
    },
    {
     "ename": "TypeError",
     "evalue": "'>' not supported between instances of 'complex' and 'complex'",
     "output_type": "error",
     "traceback": [
      "\u001b[1;31m---------------------------------------------------------------------------\u001b[0m",
      "\u001b[1;31mTypeError\u001b[0m                                 Traceback (most recent call last)",
      "\u001b[1;32m<ipython-input-9-77494c6aa542>\u001b[0m in \u001b[0;36m<module>\u001b[1;34m()\u001b[0m\n\u001b[0;32m      2\u001b[0m \u001b[0mnum2\u001b[0m \u001b[1;33m=\u001b[0m \u001b[0mcomplex\u001b[0m\u001b[1;33m(\u001b[0m\u001b[1;36m3\u001b[0m\u001b[1;33m+\u001b[0m\u001b[1;36m4j\u001b[0m\u001b[1;33m)\u001b[0m\u001b[1;33m\u001b[0m\u001b[1;33m\u001b[0m\u001b[0m\n\u001b[0;32m      3\u001b[0m \u001b[0mprint\u001b[0m\u001b[1;33m(\u001b[0m\u001b[0mnum1\u001b[0m\u001b[1;33m.\u001b[0m\u001b[0mimag\u001b[0m\u001b[1;33m)\u001b[0m\u001b[1;33m\u001b[0m\u001b[1;33m\u001b[0m\u001b[0m\n\u001b[1;32m----> 4\u001b[1;33m \u001b[0mprint\u001b[0m\u001b[1;33m(\u001b[0m\u001b[0mnum2\u001b[0m\u001b[1;33m>\u001b[0m\u001b[0mnum1\u001b[0m\u001b[1;33m)\u001b[0m\u001b[1;33m\u001b[0m\u001b[1;33m\u001b[0m\u001b[0m\n\u001b[0m",
      "\u001b[1;31mTypeError\u001b[0m: '>' not supported between instances of 'complex' and 'complex'"
     ]
    }
   ],
   "source": [
    "num1 = complex(1+2j)\n",
    "num2 = complex(3+4j)\n",
    "print(num1.imag)\n",
    "print(num2>num1)"
   ]
  },
  {
   "cell_type": "code",
   "execution_count": 8,
   "metadata": {},
   "outputs": [
    {
     "name": "stdout",
     "output_type": "stream",
     "text": [
      "this is how we use any !\n"
     ]
    }
   ],
   "source": [
    "test = [x for x in range(10)]\n",
    "if any(num %2 ==0 for num in test):\n",
    "    print(\"this is how we use any !\")"
   ]
  },
  {
   "cell_type": "code",
   "execution_count": null,
   "metadata": {},
   "outputs": [],
   "source": []
  }
 ],
 "metadata": {
  "kernelspec": {
   "display_name": "Python 3",
   "language": "python",
   "name": "python3"
  },
  "language_info": {
   "codemirror_mode": {
    "name": "ipython",
    "version": 3
   },
   "file_extension": ".py",
   "mimetype": "text/x-python",
   "name": "python",
   "nbconvert_exporter": "python",
   "pygments_lexer": "ipython3",
   "version": "3.6.8"
  }
 },
 "nbformat": 4,
 "nbformat_minor": 2
}
